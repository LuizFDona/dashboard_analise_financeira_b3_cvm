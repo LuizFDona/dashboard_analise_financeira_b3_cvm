{
 "cells": [
  {
   "cell_type": "code",
   "execution_count": 24,
   "metadata": {},
   "outputs": [],
   "source": [
    "import pandas as pd\n",
    "import os\n",
    "from google.cloud import bigquery\n",
    "from google.oauth2 import service_account\n",
    "from pandas_gbq import to_gbq\n",
    "import wget\n",
    "from zipfile import ZipFile"
   ]
  },
  {
   "cell_type": "markdown",
   "metadata": {},
   "source": [
    "### Url de dowload das Demonstrações Financeiras Contabeis(DFC)"
   ]
  },
  {
   "cell_type": "code",
   "execution_count": 25,
   "metadata": {},
   "outputs": [],
   "source": [
    "url_cvm = 'https://dados.cvm.gov.br/dados/CIA_ABERTA/DOC/DFP/DADOS/'"
   ]
  },
  {
   "cell_type": "markdown",
   "metadata": {},
   "source": [
    "### Carregar Credencial do Google Big Query(GBQ)"
   ]
  },
  {
   "cell_type": "code",
   "execution_count": 26,
   "metadata": {},
   "outputs": [],
   "source": [
    "#Carrega o arquivo json com a chave de autenticação do GBQ\n",
    "credencial = service_account.Credentials.from_service_account_file(\n",
    "    r'C:\\Users\\usuario\\Documents\\gbq.json',\n",
    "    scopes=['https://www.googleapis.com/auth/bigquery']\n",
    ")"
   ]
  },
  {
   "cell_type": "markdown",
   "metadata": {},
   "source": [
    "### Criar lista com nome dos arquivos das DFCs"
   ]
  },
  {
   "cell_type": "code",
   "execution_count": 16,
   "metadata": {},
   "outputs": [
    {
     "data": {
      "text/plain": [
       "['dfp_cia_aberta_2019.zip',\n",
       " 'dfp_cia_aberta_2020.zip',\n",
       " 'dfp_cia_aberta_2021.zip',\n",
       " 'dfp_cia_aberta_2022.zip',\n",
       " 'dfp_cia_aberta_2023.zip']"
      ]
     },
     "execution_count": 16,
     "metadata": {},
     "output_type": "execute_result"
    }
   ],
   "source": [
    "arquivos_zip = []\n",
    "\n",
    "#Preencher a Lista para os anos de 2019 a 2023\n",
    "for ano in range(2019, 2024):\n",
    "    #Adiciona cada arquivo zip a lista criada\n",
    "    arquivos_zip.append(f'dfp_cia_aberta_{ano}.zip')\n",
    "arquivos_zip"
   ]
  },
  {
   "cell_type": "markdown",
   "metadata": {},
   "source": [
    "### Fazer dowload de todos os arquivos\n",
    "• Verifica se já existe um arquivo com o nome e apaga e substitui pelo novo fazendo dowload novamente"
   ]
  },
  {
   "cell_type": "code",
   "execution_count": 17,
   "metadata": {},
   "outputs": [],
   "source": [
    "for arquivo in arquivos_zip:\n",
    "    #Caminho para salvar cada arquivo\n",
    "    caminho_arquivo_zip = f'Demonstracoes_Zip/{arquivo}'\n",
    "    #Caso já exista um arquivo com mesmo nome, é apagado\n",
    "    if os.path.exists(caminho_arquivo_zip):\n",
    "        os.remove(caminho_arquivo_zip)\n",
    "\n",
    "    #Faz o dowload de cada arquivo zip de cada anos das DFC dentro da pasta Demonstracoes_Zip\n",
    "    wget.download(url_cvm + arquivo, caminho_arquivo_zip)"
   ]
  },
  {
   "cell_type": "markdown",
   "metadata": {},
   "source": [
    "### Extrair arquivos da pasta zipada"
   ]
  },
  {
   "cell_type": "code",
   "execution_count": 18,
   "metadata": {},
   "outputs": [],
   "source": [
    "for arquivo in arquivos_zip:\n",
    "    #Extrair os arquivos Zip das DFC nas pasta Demonstracoes\n",
    "    ZipFile(f'Demonstracoes_Zip/{arquivo}', 'r').extractall('Demonstracoes')"
   ]
  },
  {
   "cell_type": "markdown",
   "metadata": {},
   "source": [
    "### Carrega a lista dos arquivos do diretório Demonstracoes"
   ]
  },
  {
   "cell_type": "code",
   "execution_count": 19,
   "metadata": {},
   "outputs": [
    {
     "name": "stdout",
     "output_type": "stream",
     "text": [
      "['dfp_cia_aberta_2019.csv', 'dfp_cia_aberta_2020.csv', 'dfp_cia_aberta_2021.csv', 'dfp_cia_aberta_2022.csv', 'dfp_cia_aberta_2023.csv', 'dfp_cia_aberta_BPA_con_2019.csv', 'dfp_cia_aberta_BPA_con_2020.csv', 'dfp_cia_aberta_BPA_con_2021.csv', 'dfp_cia_aberta_BPA_con_2022.csv', 'dfp_cia_aberta_BPA_con_2023.csv', 'dfp_cia_aberta_BPA_ind_2019.csv', 'dfp_cia_aberta_BPA_ind_2020.csv', 'dfp_cia_aberta_BPA_ind_2021.csv', 'dfp_cia_aberta_BPA_ind_2022.csv', 'dfp_cia_aberta_BPA_ind_2023.csv', 'dfp_cia_aberta_BPP_con_2019.csv', 'dfp_cia_aberta_BPP_con_2020.csv', 'dfp_cia_aberta_BPP_con_2021.csv', 'dfp_cia_aberta_BPP_con_2022.csv', 'dfp_cia_aberta_BPP_con_2023.csv', 'dfp_cia_aberta_BPP_ind_2019.csv', 'dfp_cia_aberta_BPP_ind_2020.csv', 'dfp_cia_aberta_BPP_ind_2021.csv', 'dfp_cia_aberta_BPP_ind_2022.csv', 'dfp_cia_aberta_BPP_ind_2023.csv', 'dfp_cia_aberta_DFC_MD_con_2019.csv', 'dfp_cia_aberta_DFC_MD_con_2020.csv', 'dfp_cia_aberta_DFC_MD_con_2021.csv', 'dfp_cia_aberta_DFC_MD_con_2022.csv', 'dfp_cia_aberta_DFC_MD_con_2023.csv', 'dfp_cia_aberta_DFC_MD_ind_2019.csv', 'dfp_cia_aberta_DFC_MD_ind_2020.csv', 'dfp_cia_aberta_DFC_MD_ind_2021.csv', 'dfp_cia_aberta_DFC_MD_ind_2022.csv', 'dfp_cia_aberta_DFC_MD_ind_2023.csv', 'dfp_cia_aberta_DFC_MI_con_2019.csv', 'dfp_cia_aberta_DFC_MI_con_2020.csv', 'dfp_cia_aberta_DFC_MI_con_2021.csv', 'dfp_cia_aberta_DFC_MI_con_2022.csv', 'dfp_cia_aberta_DFC_MI_con_2023.csv', 'dfp_cia_aberta_DFC_MI_ind_2019.csv', 'dfp_cia_aberta_DFC_MI_ind_2020.csv', 'dfp_cia_aberta_DFC_MI_ind_2021.csv', 'dfp_cia_aberta_DFC_MI_ind_2022.csv', 'dfp_cia_aberta_DFC_MI_ind_2023.csv', 'dfp_cia_aberta_DMPL_con_2019.csv', 'dfp_cia_aberta_DMPL_con_2020.csv', 'dfp_cia_aberta_DMPL_con_2021.csv', 'dfp_cia_aberta_DMPL_con_2022.csv', 'dfp_cia_aberta_DMPL_con_2023.csv', 'dfp_cia_aberta_DMPL_ind_2019.csv', 'dfp_cia_aberta_DMPL_ind_2020.csv', 'dfp_cia_aberta_DMPL_ind_2021.csv', 'dfp_cia_aberta_DMPL_ind_2022.csv', 'dfp_cia_aberta_DMPL_ind_2023.csv', 'dfp_cia_aberta_DRA_con_2019.csv', 'dfp_cia_aberta_DRA_con_2020.csv', 'dfp_cia_aberta_DRA_con_2021.csv', 'dfp_cia_aberta_DRA_con_2022.csv', 'dfp_cia_aberta_DRA_con_2023.csv', 'dfp_cia_aberta_DRA_ind_2019.csv', 'dfp_cia_aberta_DRA_ind_2020.csv', 'dfp_cia_aberta_DRA_ind_2021.csv', 'dfp_cia_aberta_DRA_ind_2022.csv', 'dfp_cia_aberta_DRA_ind_2023.csv', 'dfp_cia_aberta_DRE_con_2019.csv', 'dfp_cia_aberta_DRE_con_2020.csv', 'dfp_cia_aberta_DRE_con_2021.csv', 'dfp_cia_aberta_DRE_con_2022.csv', 'dfp_cia_aberta_DRE_con_2023.csv', 'dfp_cia_aberta_DRE_ind_2019.csv', 'dfp_cia_aberta_DRE_ind_2020.csv', 'dfp_cia_aberta_DRE_ind_2021.csv', 'dfp_cia_aberta_DRE_ind_2022.csv', 'dfp_cia_aberta_DRE_ind_2023.csv', 'dfp_cia_aberta_DVA_con_2019.csv', 'dfp_cia_aberta_DVA_con_2020.csv', 'dfp_cia_aberta_DVA_con_2021.csv', 'dfp_cia_aberta_DVA_con_2022.csv', 'dfp_cia_aberta_DVA_con_2023.csv', 'dfp_cia_aberta_DVA_ind_2019.csv', 'dfp_cia_aberta_DVA_ind_2020.csv', 'dfp_cia_aberta_DVA_ind_2021.csv', 'dfp_cia_aberta_DVA_ind_2022.csv', 'dfp_cia_aberta_DVA_ind_2023.csv', 'dfp_cia_aberta_parecer_2019.csv', 'dfp_cia_aberta_parecer_2020.csv', 'dfp_cia_aberta_parecer_2021.csv', 'dfp_cia_aberta_parecer_2022.csv', 'dfp_cia_aberta_parecer_2023.csv']\n"
     ]
    }
   ],
   "source": [
    "#Diretorio do arquivo atual\n",
    "diretorio_atual = os.getcwd()\n",
    "caminho_diretorio = os.path.join(diretorio_atual, 'Demonstracoes')\n",
    "\n",
    "\n",
    "arquivos_dfc = os.listdir('Demonstracoes/')\n",
    "\n",
    "print(arquivos_dfc)"
   ]
  },
  {
   "cell_type": "markdown",
   "metadata": {},
   "source": [
    "### Filtrar arquivos para carga no GBQ\n",
    "É filtrado os arquivos que contém informações cadastrais, os arquivos com parecer de auditória e os arquivos das DFC individual, onde as informações são referentes apenas a própria empresa, desconsiderando outras empresas do grupo."
   ]
  },
  {
   "cell_type": "code",
   "execution_count": 20,
   "metadata": {},
   "outputs": [
    {
     "name": "stdout",
     "output_type": "stream",
     "text": [
      "             CNPJ_CIA    DT_REFER  VERSAO        DENOM_CIA  CD_CVM  \\\n",
      "0  00.000.000/0001-91  2019-12-31       2  BCO BRASIL S.A.    1023   \n",
      "1  00.000.000/0001-91  2019-12-31       2  BCO BRASIL S.A.    1023   \n",
      "2  00.000.000/0001-91  2019-12-31       2  BCO BRASIL S.A.    1023   \n",
      "3  00.000.000/0001-91  2019-12-31       2  BCO BRASIL S.A.    1023   \n",
      "4  00.000.000/0001-91  2019-12-31       2  BCO BRASIL S.A.    1023   \n",
      "\n",
      "                                    GRUPO_DFP MOEDA ESCALA_MOEDA ORDEM_EXERC  \\\n",
      "0  DF Consolidado - Balanço Patrimonial Ativo  REAL          MIL   PENÚLTIMO   \n",
      "1  DF Consolidado - Balanço Patrimonial Ativo  REAL          MIL      ÚLTIMO   \n",
      "2  DF Consolidado - Balanço Patrimonial Ativo  REAL          MIL   PENÚLTIMO   \n",
      "3  DF Consolidado - Balanço Patrimonial Ativo  REAL          MIL      ÚLTIMO   \n",
      "4  DF Consolidado - Balanço Patrimonial Ativo  REAL          MIL   PENÚLTIMO   \n",
      "\n",
      "  DT_FIM_EXERC CD_CONTA                       DS_CONTA               VL_CONTA  \\\n",
      "0   2018-12-31        1                    Ativo Total  1396507474.0000000000   \n",
      "1   2019-12-31        1                    Ativo Total  1452266807.0000000000   \n",
      "2   2018-12-31     1.01  Caixa e Equivalentes de Caixa    60322132.0000000000   \n",
      "3   2019-12-31     1.01  Caixa e Equivalentes de Caixa    71936023.0000000000   \n",
      "4   2018-12-31  1.01.01    Caixa e Depósitos Bancários    13601194.0000000000   \n",
      "\n",
      "  ST_CONTA_FIXA DT_INI_EXERC COLUNA_DF  \n",
      "0             S          NaN       NaN  \n",
      "1             S          NaN       NaN  \n",
      "2             S          NaN       NaN  \n",
      "3             S          NaN       NaN  \n",
      "4             N          NaN       NaN  \n"
     ]
    }
   ],
   "source": [
    "#Cria um DataFrame(DF) vazio\n",
    "df = pd.DataFrame()\n",
    "\n",
    "for arquivo in arquivos_dfc:\n",
    "    #Filtrar arquivos a serem desconsiderados, arquivo de dados cadastrais sempre terá 23 digitos\n",
    "    if 'parecer' in arquivo.lower() or len(arquivo) == 23 or 'ind' in arquivo.lower():\n",
    "        pass\n",
    "    else:\n",
    "        #Passa o caminho de cada arquivo a ser análisado na pasta Demonstracoes\n",
    "        caminho_arquivo = os.path.join(caminho_diretorio, arquivo)\n",
    "        #Gera um DF de cada arquivo do diretório Demonstracoes\n",
    "        df_arquivo = pd.read_csv(caminho_arquivo, sep=';', decimal=',', encoding='ISO-8859-1')\n",
    "        #Adiciona cada arquivo dentro do DF vazio\n",
    "        df = pd.concat([df, df_arquivo], ignore_index=True)\n",
    "\n",
    "\n",
    "\n",
    "print(df.head())\n"
   ]
  },
  {
   "cell_type": "markdown",
   "metadata": {},
   "source": [
    "### Apagar dados da tabela raw_dfc\n",
    "É executado consulta sql no GBQ para apagar os dados da tabela para não duplicar caso já tenha sido feita uma carga com os dados anteriormente"
   ]
  },
  {
   "cell_type": "code",
   "execution_count": 21,
   "metadata": {},
   "outputs": [],
   "source": [
    "#Instanciar o cliente do GBQ\n",
    "cliente = bigquery.Client(credentials=credencial, project=credencial.project_id)\n",
    "\n",
    "#Query pra apagar os dados da tabela raw_dfc onde será carregado os dados das DFC\n",
    "sql_apagar_dados = \"\"\" \n",
    "TRUNCATE TABLE `prjeto.dfc.raw_dfc` \n",
    "\"\"\"\n",
    "\n",
    "#Executar a query de apagar os dados da tabela\n",
    "query = cliente.query(sql_apagar_dados)\n",
    "\n",
    "\n"
   ]
  },
  {
   "cell_type": "markdown",
   "metadata": {},
   "source": [
    "### Inserir dados dentro da tabela raw_dfc\n",
    "• É realizado a inserção de todos os dados do DF consolidados das DFC dentro da tabela raw_dfc no GBQ"
   ]
  },
  {
   "cell_type": "code",
   "execution_count": 22,
   "metadata": {},
   "outputs": [
    {
     "name": "stderr",
     "output_type": "stream",
     "text": [
      "100%|██████████| 1/1 [00:00<?, ?it/s]\n"
     ]
    }
   ],
   "source": [
    "#Inserir os dados do DF consolidado das DFC na tabela raw_dfc do GBQ\n",
    "df.to_gbq(\n",
    "    destination_table='prjeto.dfc.raw_dfc',\n",
    "    project_id='prjeto',\n",
    "    if_exists='replace',\n",
    "    credentials=credencial)"
   ]
  },
  {
   "cell_type": "markdown",
   "metadata": {},
   "source": [
    "### Consulta para verificar se foram carregados os dados na tabela"
   ]
  },
  {
   "cell_type": "code",
   "execution_count": 27,
   "metadata": {},
   "outputs": [
    {
     "name": "stdout",
     "output_type": "stream",
     "text": [
      "Row(('11.284.204/0001-18', '2019-12-31', 5, 'YOU INC INCORPORADORA E PARTICIPAÇÃO S.A', 23604, 'DF Consolidado - Balanço Patrimonial Ativo', 'REAL', 'MIL', 'PENÚLTIMO', '2018-12-31', '1', 'Ativo Total', '805724.0000000000', 'S', None, None), {'CNPJ_CIA': 0, 'DT_REFER': 1, 'VERSAO': 2, 'DENOM_CIA': 3, 'CD_CVM': 4, 'GRUPO_DFP': 5, 'MOEDA': 6, 'ESCALA_MOEDA': 7, 'ORDEM_EXERC': 8, 'DT_FIM_EXERC': 9, 'CD_CONTA': 10, 'DS_CONTA': 11, 'VL_CONTA': 12, 'ST_CONTA_FIXA': 13, 'DT_INI_EXERC': 14, 'COLUNA_DF': 15})\n",
      "Row(('11.284.204/0001-18', '2019-12-31', 5, 'YOU INC INCORPORADORA E PARTICIPAÇÃO S.A', 23604, 'DF Consolidado - Balanço Patrimonial Ativo', 'REAL', 'MIL', 'PENÚLTIMO', '2018-12-31', '1.01', 'Ativo Circulante', '740068.0000000000', 'S', None, None), {'CNPJ_CIA': 0, 'DT_REFER': 1, 'VERSAO': 2, 'DENOM_CIA': 3, 'CD_CVM': 4, 'GRUPO_DFP': 5, 'MOEDA': 6, 'ESCALA_MOEDA': 7, 'ORDEM_EXERC': 8, 'DT_FIM_EXERC': 9, 'CD_CONTA': 10, 'DS_CONTA': 11, 'VL_CONTA': 12, 'ST_CONTA_FIXA': 13, 'DT_INI_EXERC': 14, 'COLUNA_DF': 15})\n",
      "Row(('11.284.204/0001-18', '2019-12-31', 5, 'YOU INC INCORPORADORA E PARTICIPAÇÃO S.A', 23604, 'DF Consolidado - Balanço Patrimonial Ativo', 'REAL', 'MIL', 'PENÚLTIMO', '2018-12-31', '1.01.01', 'Caixa e Equivalentes de Caixa', '62073.0000000000', 'S', None, None), {'CNPJ_CIA': 0, 'DT_REFER': 1, 'VERSAO': 2, 'DENOM_CIA': 3, 'CD_CVM': 4, 'GRUPO_DFP': 5, 'MOEDA': 6, 'ESCALA_MOEDA': 7, 'ORDEM_EXERC': 8, 'DT_FIM_EXERC': 9, 'CD_CONTA': 10, 'DS_CONTA': 11, 'VL_CONTA': 12, 'ST_CONTA_FIXA': 13, 'DT_INI_EXERC': 14, 'COLUNA_DF': 15})\n",
      "Row(('11.284.204/0001-18', '2019-12-31', 5, 'YOU INC INCORPORADORA E PARTICIPAÇÃO S.A', 23604, 'DF Consolidado - Balanço Patrimonial Ativo', 'REAL', 'MIL', 'PENÚLTIMO', '2018-12-31', '1.01.01.01', 'Caixa e Equivalentes de Caixa', '0.0000000000', 'N', None, None), {'CNPJ_CIA': 0, 'DT_REFER': 1, 'VERSAO': 2, 'DENOM_CIA': 3, 'CD_CVM': 4, 'GRUPO_DFP': 5, 'MOEDA': 6, 'ESCALA_MOEDA': 7, 'ORDEM_EXERC': 8, 'DT_FIM_EXERC': 9, 'CD_CONTA': 10, 'DS_CONTA': 11, 'VL_CONTA': 12, 'ST_CONTA_FIXA': 13, 'DT_INI_EXERC': 14, 'COLUNA_DF': 15})\n",
      "Row(('11.284.204/0001-18', '2019-12-31', 5, 'YOU INC INCORPORADORA E PARTICIPAÇÃO S.A', 23604, 'DF Consolidado - Balanço Patrimonial Ativo', 'REAL', 'MIL', 'PENÚLTIMO', '2018-12-31', '1.01.01.02', 'Caixa restrito', '0.0000000000', 'N', None, None), {'CNPJ_CIA': 0, 'DT_REFER': 1, 'VERSAO': 2, 'DENOM_CIA': 3, 'CD_CVM': 4, 'GRUPO_DFP': 5, 'MOEDA': 6, 'ESCALA_MOEDA': 7, 'ORDEM_EXERC': 8, 'DT_FIM_EXERC': 9, 'CD_CONTA': 10, 'DS_CONTA': 11, 'VL_CONTA': 12, 'ST_CONTA_FIXA': 13, 'DT_INI_EXERC': 14, 'COLUNA_DF': 15})\n",
      "Row(('11.284.204/0001-18', '2019-12-31', 5, 'YOU INC INCORPORADORA E PARTICIPAÇÃO S.A', 23604, 'DF Consolidado - Balanço Patrimonial Ativo', 'REAL', 'MIL', 'PENÚLTIMO', '2018-12-31', '1.01.02', 'Aplicações Financeiras', '0.0000000000', 'S', None, None), {'CNPJ_CIA': 0, 'DT_REFER': 1, 'VERSAO': 2, 'DENOM_CIA': 3, 'CD_CVM': 4, 'GRUPO_DFP': 5, 'MOEDA': 6, 'ESCALA_MOEDA': 7, 'ORDEM_EXERC': 8, 'DT_FIM_EXERC': 9, 'CD_CONTA': 10, 'DS_CONTA': 11, 'VL_CONTA': 12, 'ST_CONTA_FIXA': 13, 'DT_INI_EXERC': 14, 'COLUNA_DF': 15})\n",
      "Row(('11.284.204/0001-18', '2019-12-31', 5, 'YOU INC INCORPORADORA E PARTICIPAÇÃO S.A', 23604, 'DF Consolidado - Balanço Patrimonial Ativo', 'REAL', 'MIL', 'PENÚLTIMO', '2018-12-31', '1.01.02.01', 'Aplicações Financeiras Avaliadas a Valor Justo através do Resultado', '0.0000000000', 'S', None, None), {'CNPJ_CIA': 0, 'DT_REFER': 1, 'VERSAO': 2, 'DENOM_CIA': 3, 'CD_CVM': 4, 'GRUPO_DFP': 5, 'MOEDA': 6, 'ESCALA_MOEDA': 7, 'ORDEM_EXERC': 8, 'DT_FIM_EXERC': 9, 'CD_CONTA': 10, 'DS_CONTA': 11, 'VL_CONTA': 12, 'ST_CONTA_FIXA': 13, 'DT_INI_EXERC': 14, 'COLUNA_DF': 15})\n",
      "Row(('11.284.204/0001-18', '2019-12-31', 5, 'YOU INC INCORPORADORA E PARTICIPAÇÃO S.A', 23604, 'DF Consolidado - Balanço Patrimonial Ativo', 'REAL', 'MIL', 'PENÚLTIMO', '2018-12-31', '1.01.02.01.01', 'Títulos para Negociação', '0.0000000000', 'S', None, None), {'CNPJ_CIA': 0, 'DT_REFER': 1, 'VERSAO': 2, 'DENOM_CIA': 3, 'CD_CVM': 4, 'GRUPO_DFP': 5, 'MOEDA': 6, 'ESCALA_MOEDA': 7, 'ORDEM_EXERC': 8, 'DT_FIM_EXERC': 9, 'CD_CONTA': 10, 'DS_CONTA': 11, 'VL_CONTA': 12, 'ST_CONTA_FIXA': 13, 'DT_INI_EXERC': 14, 'COLUNA_DF': 15})\n",
      "Row(('11.284.204/0001-18', '2019-12-31', 5, 'YOU INC INCORPORADORA E PARTICIPAÇÃO S.A', 23604, 'DF Consolidado - Balanço Patrimonial Ativo', 'REAL', 'MIL', 'PENÚLTIMO', '2018-12-31', '1.01.02.01.02', 'Títulos Designados a Valor Justo', '0.0000000000', 'S', None, None), {'CNPJ_CIA': 0, 'DT_REFER': 1, 'VERSAO': 2, 'DENOM_CIA': 3, 'CD_CVM': 4, 'GRUPO_DFP': 5, 'MOEDA': 6, 'ESCALA_MOEDA': 7, 'ORDEM_EXERC': 8, 'DT_FIM_EXERC': 9, 'CD_CONTA': 10, 'DS_CONTA': 11, 'VL_CONTA': 12, 'ST_CONTA_FIXA': 13, 'DT_INI_EXERC': 14, 'COLUNA_DF': 15})\n",
      "Row(('11.284.204/0001-18', '2019-12-31', 5, 'YOU INC INCORPORADORA E PARTICIPAÇÃO S.A', 23604, 'DF Consolidado - Balanço Patrimonial Ativo', 'REAL', 'MIL', 'PENÚLTIMO', '2018-12-31', '1.01.02.02', 'Aplicações Financeiras Avaliadas a Valor Justo através de Outros Resultados Abrangentes', '0.0000000000', 'S', None, None), {'CNPJ_CIA': 0, 'DT_REFER': 1, 'VERSAO': 2, 'DENOM_CIA': 3, 'CD_CVM': 4, 'GRUPO_DFP': 5, 'MOEDA': 6, 'ESCALA_MOEDA': 7, 'ORDEM_EXERC': 8, 'DT_FIM_EXERC': 9, 'CD_CONTA': 10, 'DS_CONTA': 11, 'VL_CONTA': 12, 'ST_CONTA_FIXA': 13, 'DT_INI_EXERC': 14, 'COLUNA_DF': 15})\n"
     ]
    }
   ],
   "source": [
    "\n",
    "#Query pra apagar os dados da tabela raw_dfc onde será carregado os dados das DFC\n",
    "sql_selecionar_dados = \"\"\" \n",
    "SELECT * FROM `prjeto.dfc.raw_dfc` LIMIT 10\n",
    "\"\"\"\n",
    "\n",
    "#Executar a query de apagar os dados da tabela\n",
    "query = cliente.query(sql_selecionar_dados)\n",
    "\n",
    "# Coletar os resultados\n",
    "results = query.result()\n",
    "\n",
    "# Exibir os resultados\n",
    "for row in results:\n",
    "    print(row)\n"
   ]
  }
 ],
 "metadata": {
  "kernelspec": {
   "display_name": "base",
   "language": "python",
   "name": "python3"
  },
  "language_info": {
   "codemirror_mode": {
    "name": "ipython",
    "version": 3
   },
   "file_extension": ".py",
   "mimetype": "text/x-python",
   "name": "python",
   "nbconvert_exporter": "python",
   "pygments_lexer": "ipython3",
   "version": "3.11.4"
  }
 },
 "nbformat": 4,
 "nbformat_minor": 2
}
