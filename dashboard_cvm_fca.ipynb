{
 "cells": [
  {
   "cell_type": "code",
   "execution_count": 20,
   "metadata": {},
   "outputs": [],
   "source": [
    "import pandas as pd\n",
    "import os\n",
    "from google.cloud import bigquery\n",
    "from google.oauth2 import service_account\n",
    "from pandas_gbq import to_gbq\n",
    "import wget\n",
    "from zipfile import ZipFile"
   ]
  },
  {
   "cell_type": "markdown",
   "metadata": {},
   "source": [
    "### Url de dowload dos Formulários Cadastrais de Companhias Abertas (FCA)"
   ]
  },
  {
   "cell_type": "code",
   "execution_count": 21,
   "metadata": {},
   "outputs": [],
   "source": [
    "url_cvm = 'https://dados.cvm.gov.br/dados/CIA_ABERTA/DOC/FCA/DADOS/'"
   ]
  },
  {
   "cell_type": "markdown",
   "metadata": {},
   "source": [
    "### Carregar Credencial do Google Big Query(GBQ)"
   ]
  },
  {
   "cell_type": "code",
   "execution_count": 3,
   "metadata": {},
   "outputs": [],
   "source": [
    "#Carrega o arquivo json com a chave de autenticação do GBQ\n",
    "credencial = service_account.Credentials.from_service_account_file(\n",
    "    r'C:\\Users\\usuario\\Documents\\gbq.json',\n",
    "    scopes=['https://www.googleapis.com/auth/bigquery']\n",
    ")"
   ]
  },
  {
   "cell_type": "markdown",
   "metadata": {},
   "source": [
    "### Criar lista com nome dos arquivos das DFCs"
   ]
  },
  {
   "cell_type": "code",
   "execution_count": 22,
   "metadata": {},
   "outputs": [
    {
     "data": {
      "text/plain": [
       "['fca_cia_aberta_2019.zip',\n",
       " 'fca_cia_aberta_2020.zip',\n",
       " 'fca_cia_aberta_2021.zip',\n",
       " 'fca_cia_aberta_2022.zip',\n",
       " 'fca_cia_aberta_2023.zip']"
      ]
     },
     "execution_count": 22,
     "metadata": {},
     "output_type": "execute_result"
    }
   ],
   "source": [
    "arquivos_zip = []\n",
    "\n",
    "#Preencher a Lista para os anos de 2019 a 2023\n",
    "for ano in range(2019, 2024):\n",
    "    #Adiciona cada arquivo zip a lista criada\n",
    "    arquivos_zip.append(f'fca_cia_aberta_{ano}.zip')\n",
    "arquivos_zip"
   ]
  },
  {
   "cell_type": "markdown",
   "metadata": {},
   "source": [
    "### Fazer dowload de todos os arquivos\n",
    "• Verifica se já existe um arquivo com o nome e apaga e substitui pelo novo fazendo dowload novamente"
   ]
  },
  {
   "cell_type": "code",
   "execution_count": 24,
   "metadata": {},
   "outputs": [],
   "source": [
    "for arquivo in arquivos_zip:\n",
    "    #Caminho para salvar cada arquivo\n",
    "    caminho_arquivo_zip = f'Cadastro_Zip/{arquivo}'\n",
    "    #Caso já exista um arquivo com mesmo nome, é apagado\n",
    "    if os.path.exists(caminho_arquivo_zip):\n",
    "        os.remove(caminho_arquivo_zip)\n",
    "\n",
    "    #Faz o dowload de cada arquivo zip de cada anos das DFC dentro da pasta Demonstracoes_Zip\n",
    "    wget.download(url_cvm + arquivo, caminho_arquivo_zip)"
   ]
  },
  {
   "cell_type": "markdown",
   "metadata": {},
   "source": [
    "### Extrair arquivos da pasta zipada"
   ]
  },
  {
   "cell_type": "code",
   "execution_count": 25,
   "metadata": {},
   "outputs": [],
   "source": [
    "for arquivo in arquivos_zip:\n",
    "    #Extrair os arquivos Zip das DFC nas pasta Demonstracoes\n",
    "    ZipFile(f'Cadastro_Zip/{arquivo}', 'r').extractall('Cadastro')"
   ]
  },
  {
   "cell_type": "markdown",
   "metadata": {},
   "source": [
    "### Carrega a lista dos arquivos do diretório Demonstracoes"
   ]
  },
  {
   "cell_type": "code",
   "execution_count": 26,
   "metadata": {},
   "outputs": [
    {
     "name": "stdout",
     "output_type": "stream",
     "text": [
      "['fca_cia_aberta_2019.csv', 'fca_cia_aberta_2020.csv', 'fca_cia_aberta_2021.csv', 'fca_cia_aberta_2022.csv', 'fca_cia_aberta_2023.csv', 'fca_cia_aberta_auditor_2019.csv', 'fca_cia_aberta_auditor_2020.csv', 'fca_cia_aberta_auditor_2021.csv', 'fca_cia_aberta_auditor_2022.csv', 'fca_cia_aberta_auditor_2023.csv', 'fca_cia_aberta_canal_divulgacao_2019.csv', 'fca_cia_aberta_canal_divulgacao_2020.csv', 'fca_cia_aberta_canal_divulgacao_2021.csv', 'fca_cia_aberta_canal_divulgacao_2022.csv', 'fca_cia_aberta_canal_divulgacao_2023.csv', 'fca_cia_aberta_departamento_acionistas_2019.csv', 'fca_cia_aberta_departamento_acionistas_2020.csv', 'fca_cia_aberta_departamento_acionistas_2021.csv', 'fca_cia_aberta_departamento_acionistas_2022.csv', 'fca_cia_aberta_departamento_acionistas_2023.csv', 'fca_cia_aberta_dri_2019.csv', 'fca_cia_aberta_dri_2020.csv', 'fca_cia_aberta_dri_2021.csv', 'fca_cia_aberta_dri_2022.csv', 'fca_cia_aberta_dri_2023.csv', 'fca_cia_aberta_endereco_2019.csv', 'fca_cia_aberta_endereco_2020.csv', 'fca_cia_aberta_endereco_2021.csv', 'fca_cia_aberta_endereco_2022.csv', 'fca_cia_aberta_endereco_2023.csv', 'fca_cia_aberta_escriturador_2019.csv', 'fca_cia_aberta_escriturador_2020.csv', 'fca_cia_aberta_escriturador_2021.csv', 'fca_cia_aberta_escriturador_2022.csv', 'fca_cia_aberta_escriturador_2023.csv', 'fca_cia_aberta_geral_2019.csv', 'fca_cia_aberta_geral_2020.csv', 'fca_cia_aberta_geral_2021.csv', 'fca_cia_aberta_geral_2022.csv', 'fca_cia_aberta_geral_2023.csv', 'fca_cia_aberta_pais_estrangeiro_negociacao_2019.csv', 'fca_cia_aberta_pais_estrangeiro_negociacao_2020.csv', 'fca_cia_aberta_pais_estrangeiro_negociacao_2021.csv', 'fca_cia_aberta_pais_estrangeiro_negociacao_2022.csv', 'fca_cia_aberta_pais_estrangeiro_negociacao_2023.csv', 'fca_cia_aberta_valor_mobiliario_2019.csv', 'fca_cia_aberta_valor_mobiliario_2020.csv', 'fca_cia_aberta_valor_mobiliario_2021.csv', 'fca_cia_aberta_valor_mobiliario_2022.csv', 'fca_cia_aberta_valor_mobiliario_2023.csv']\n"
     ]
    }
   ],
   "source": [
    "#Diretorio do arquivo atual\n",
    "diretorio_atual = os.getcwd()\n",
    "caminho_diretorio = os.path.join(diretorio_atual, 'Cadastro')\n",
    "\n",
    "\n",
    "arquivos_dfc = os.listdir('Cadastro/')\n",
    "\n",
    "print(arquivos_dfc)"
   ]
  },
  {
   "cell_type": "markdown",
   "metadata": {},
   "source": [
    "### Filtrar arquivos para carga no GBQ\n",
    "É filtrado os arquivos que contém informações cadastrais das empresas e utilizado apenas a coluna de CNPJ que funcionará como chave unica e a coluna do setor de atividade"
   ]
  },
  {
   "cell_type": "code",
   "execution_count": 27,
   "metadata": {},
   "outputs": [
    {
     "name": "stdout",
     "output_type": "stream",
     "text": [
      "       CNPJ_Companhia                        Setor_Atividade\n",
      "0  00.000.000/0001-91                                 Bancos\n",
      "1  00.000.208/0001-00                                 Bancos\n",
      "2  00.001.180/0001-26                       Energia Elétrica\n",
      "3  00.070.698/0001-11                       Energia Elétrica\n",
      "4  00.185.475/0001-08  Emp. Adm. Part. - Sem Setor Principal\n"
     ]
    }
   ],
   "source": [
    "#Cria um DataFrame(DF) vazio\n",
    "df = pd.DataFrame()\n",
    "\n",
    "for arquivo in arquivos_dfc:\n",
    "    #Filtrar arquivos a serem desconsiderados, arquivo de dados cadastrais sempre terá 23 digitos\n",
    "    if  'geral' not in arquivo.lower():\n",
    "        pass\n",
    "    else:\n",
    "        #Passa o caminho de cada arquivo a ser análisado na pasta Demonstracoes\n",
    "        caminho_arquivo = os.path.join(caminho_diretorio, arquivo)\n",
    "        #Gera um DF de cada arquivo do diretório Demonstracoes\n",
    "        df_arquivo = pd.read_csv(caminho_arquivo, sep=';', decimal=',', encoding='ISO-8859-1')\n",
    "        #Adiciona cada arquivo dentro do DF vazio\n",
    "        df = pd.concat([df, df_arquivo], ignore_index=True)\n",
    "\n",
    "#Deixa apenas as colunas de CNPJ e Setor de Atividade\n",
    "df = df[['CNPJ_Companhia', 'Setor_Atividade']]\n",
    "#Remove valores duplicados, pois como é utilizado o arquivo de varios anos a maioria das empresas terá informações duplicadas\n",
    "df = df.drop_duplicates(subset='CNPJ_Companhia')\n",
    "print(df.head())\n"
   ]
  },
  {
   "cell_type": "markdown",
   "metadata": {},
   "source": [
    "### Apagar dados da tabela raw_dfc\n",
    "É executado consulta sql no GBQ para apagar os dados da tabela para não duplicar caso já tenha sido feita uma carga com os dados anteriormente"
   ]
  },
  {
   "cell_type": "code",
   "execution_count": 28,
   "metadata": {},
   "outputs": [],
   "source": [
    "#Instanciar o cliente do GBQ\n",
    "cliente = bigquery.Client(credentials=credencial, project=credencial.project_id)\n",
    "\n",
    "#Query pra apagar os dados da tabela raw_dfc onde será carregado os dados das DFC\n",
    "sql_apagar_dados = \"\"\" \n",
    "TRUNCATE TABLE `prjeto.dfc.raw_fca` \n",
    "\"\"\"\n",
    "\n",
    "#Executar a query de apagar os dados da tabela\n",
    "query = cliente.query(sql_apagar_dados)\n",
    "\n",
    "\n"
   ]
  },
  {
   "cell_type": "markdown",
   "metadata": {},
   "source": [
    "### Inserir dados dentro da tabela raw_dfc\n",
    "• É realizado a inserção de todos os dados do DF consolidados das DFC dentro da tabela raw_dfc no GBQ"
   ]
  },
  {
   "cell_type": "code",
   "execution_count": 29,
   "metadata": {},
   "outputs": [
    {
     "name": "stderr",
     "output_type": "stream",
     "text": [
      "100%|██████████| 1/1 [00:00<00:00, 1000.07it/s]\n"
     ]
    }
   ],
   "source": [
    "#Inserir os dados do DF consolidado das DFC na tabela raw_dfc do GBQ\n",
    "df.to_gbq(\n",
    "    destination_table='prjeto.dfc.raw_fca',\n",
    "    project_id='prjeto',\n",
    "    if_exists='replace',\n",
    "    credentials=credencial)"
   ]
  },
  {
   "cell_type": "markdown",
   "metadata": {},
   "source": [
    "### Consulta para verificar se foram carregados os dados na tabela"
   ]
  },
  {
   "cell_type": "code",
   "execution_count": 30,
   "metadata": {},
   "outputs": [
    {
     "name": "stdout",
     "output_type": "stream",
     "text": [
      "Row(('61.231.155/0001-23', 'Pesca'), {'CNPJ_Companhia': 0, 'Setor_Atividade': 1})\n",
      "Row(('00.000.000/0001-91', 'Bancos'), {'CNPJ_Companhia': 0, 'Setor_Atividade': 1})\n",
      "Row(('00.000.208/0001-00', 'Bancos'), {'CNPJ_Companhia': 0, 'Setor_Atividade': 1})\n",
      "Row(('00.416.968/0001-01', 'Bancos'), {'CNPJ_Companhia': 0, 'Setor_Atividade': 1})\n",
      "Row(('01.548.981/0001-79', 'Bancos'), {'CNPJ_Companhia': 0, 'Setor_Atividade': 1})\n",
      "Row(('04.902.979/0001-44', 'Bancos'), {'CNPJ_Companhia': 0, 'Setor_Atividade': 1})\n",
      "Row(('04.913.711/0001-08', 'Bancos'), {'CNPJ_Companhia': 0, 'Setor_Atividade': 1})\n",
      "Row(('07.237.373/0001-20', 'Bancos'), {'CNPJ_Companhia': 0, 'Setor_Atividade': 1})\n",
      "Row(('08.884.213/0001-35', 'Bancos'), {'CNPJ_Companhia': 0, 'Setor_Atividade': 1})\n",
      "Row(('13.009.717/0001-46', 'Bancos'), {'CNPJ_Companhia': 0, 'Setor_Atividade': 1})\n"
     ]
    }
   ],
   "source": [
    "\n",
    "#Query pra apagar os dados da tabela raw_dfc onde será carregado os dados das DFC\n",
    "sql_selecionar_dados = \"\"\" \n",
    "SELECT * FROM `prjeto.dfc.raw_fca` LIMIT 10\n",
    "\"\"\"\n",
    "\n",
    "#Executar a query de apagar os dados da tabela\n",
    "query = cliente.query(sql_selecionar_dados)\n",
    "\n",
    "# Coletar os resultados\n",
    "results = query.result()\n",
    "\n",
    "# Exibir os resultados\n",
    "for row in results:\n",
    "    print(row)\n"
   ]
  }
 ],
 "metadata": {
  "kernelspec": {
   "display_name": "base",
   "language": "python",
   "name": "python3"
  },
  "language_info": {
   "codemirror_mode": {
    "name": "ipython",
    "version": 3
   },
   "file_extension": ".py",
   "mimetype": "text/x-python",
   "name": "python",
   "nbconvert_exporter": "python",
   "pygments_lexer": "ipython3",
   "version": "3.11.4"
  }
 },
 "nbformat": 4,
 "nbformat_minor": 2
}
